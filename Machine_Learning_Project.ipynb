{
  "nbformat": 4,
  "nbformat_minor": 0,
  "metadata": {
    "colab": {
      "provenance": []
    },
    "kernelspec": {
      "name": "python3",
      "display_name": "Python 3"
    },
    "language_info": {
      "name": "python"
    }
  },
  "cells": [
    {
      "cell_type": "markdown",
      "source": [
        "1. Data collection\n",
        "You can use the CoinGecko API to fetch historical price and volume data. You'll need to install the requests and pandas libraries (pip install requests pandas).\n",
        "python"
      ],
      "metadata": {
        "id": "UFVcdupi61Ge"
      }
    },
    {
      "cell_type": "code",
      "source": [
        "import requests\n",
        "import pandas as pd\n",
        "import time\n",
        "\n",
        "def fetch_crypto_ohlc(coin_id, vs_currency, days):\n",
        "    \"\"\"\n",
        "    Fetches historical OHLC (Open, High, Low, Close) data and volume from CoinGecko API.\n",
        "    Args:\n",
        "        coin_id (str): The ID of the cryptocurrency (e.g., 'bitcoin', 'ethereum').\n",
        "        vs_currency (str): The currency to compare against (e.g., 'usd').\n",
        "        days (int): The number of days of historical data to fetch.\n",
        "    Returns:\n",
        "        pd.DataFrame: A DataFrame containing OHLCV data.\n",
        "    \"\"\"\n",
        "    url = f\"https://api.coingecko.com/api/v3/coins/{coin_id}/ohlc?vs_currency={vs_currency}&days={days}\"\n",
        "    response = requests.get(url)\n",
        "    data = response.json()\n",
        "\n",
        "    df = pd.DataFrame(data, columns=['timestamp', 'open', 'high', 'low', 'close'])\n",
        "    df['timestamp'] = pd.to_datetime(df['timestamp'], unit='ms')\n",
        "    df['volume'] = 0\n",
        "\n",
        "    market_data_url = f\"https://api.coingecko.com/api/v3/coins/markets?vs_currency={vs_currency}&ids={coin_id}\"\n",
        "    market_response = requests.get(market_data_url)\n",
        "    market_data = market_response.json()\n",
        "    if market_data:\n",
        "        df['volume'] = market_data[0].get('total_volume', 0)\n",
        "\n",
        "    return df\n",
        "\n",
        "# Increase the number of days to fetch more data\n",
        "bitcoin_data = fetch_crypto_ohlc('bitcoin', 'usd', 365)\n",
        "print(\"Bitcoin OHLCV Data Head:\")\n",
        "print(bitcoin_data.head())"
      ],
      "metadata": {
        "colab": {
          "base_uri": "https://localhost:8080/"
        },
        "id": "04oztqgY60g3",
        "outputId": "3f318b41-7687-421d-861f-5de0fee4451e"
      },
      "execution_count": 20,
      "outputs": [
        {
          "output_type": "stream",
          "name": "stdout",
          "text": [
            "Bitcoin OHLCV Data Head:\n",
            "   timestamp     open     high      low    close       volume\n",
            "0 2024-09-14  58147.0  60655.0  57669.0  60621.0  47907266542\n",
            "1 2024-09-18  60545.0  61243.0  57559.0  60317.0  47907266542\n",
            "2 2024-09-22  60320.0  64082.0  59212.0  63403.0  47907266542\n",
            "3 2024-09-26  63406.0  64755.0  62479.0  63152.0  47907266542\n",
            "4 2024-09-30  63146.0  66439.0  62812.0  65664.0  47907266542\n"
          ]
        }
      ]
    },
    {
      "cell_type": "markdown",
      "source": [
        "2. Data preprocessing\n",
        "This involves handling missing values, cleaning, and normalizing data."
      ],
      "metadata": {
        "id": "J8vCX39X7L-T"
      }
    },
    {
      "cell_type": "code",
      "execution_count": 4,
      "metadata": {
        "colab": {
          "base_uri": "https://localhost:8080/"
        },
        "id": "3RnnRmG26s_T",
        "outputId": "fc296720-e48f-4b12-fc1b-f6d5fd0af704"
      },
      "outputs": [
        {
          "output_type": "stream",
          "name": "stdout",
          "text": [
            "\n",
            "Processed Data Head (Normalized):\n",
            "   timestamp      open      high       low     close  volume\n",
            "0 2025-06-17  0.130017  0.147564  0.333171  0.219669     0.0\n",
            "1 2025-06-21  0.212996  0.084171  0.224836  0.000000     0.0\n",
            "2 2025-06-25  0.000000  0.000000  0.000000  0.161166     0.0\n",
            "3 2025-06-29  0.164637  0.110395  0.406620  0.242530     0.0\n",
            "4 2025-07-03  0.242455  0.193289  0.375088  0.332053     0.0\n"
          ]
        }
      ],
      "source": [
        "import numpy as np\n",
        "from sklearn.preprocessing import MinMaxScaler\n",
        "\n",
        "df = bitcoin_data.ffill()\n",
        "\n",
        "scaler = MinMaxScaler()\n",
        "features_to_scale = ['open', 'high', 'low', 'close', 'volume']\n",
        "df[features_to_scale] = scaler.fit_transform(df[features_to_scale])\n",
        "\n",
        "print(\"\\nProcessed Data Head (Normalized):\")\n",
        "print(df.head())"
      ]
    },
    {
      "cell_type": "markdown",
      "source": [
        "3. Exploratory data analysis (EDA)\n",
        "Visualize trends and patterns. You'll need matplotlib (pip install matplotlib)."
      ],
      "metadata": {
        "id": "Mea44Ak0EDHJ"
      }
    },
    {
      "cell_type": "code",
      "source": [
        "import matplotlib.pyplot as plt\n",
        "\n",
        "plt.figure(figsize=(12, 6))\n",
        "plt.plot(df['timestamp'], df['close'], label='Normalized Close Price')\n",
        "plt.title('Normalized Bitcoin Close Price Over Time')\n",
        "plt.xlabel('Date')\n",
        "plt.ylabel('Normalized Price')\n",
        "plt.legend()\n",
        "plt.grid(True)\n",
        "plt.show()\n",
        "\n",
        "print(\"\\nCorrelation Matrix:\")\n",
        "print(df[features_to_scale].corr())\n"
      ],
      "metadata": {
        "colab": {
          "base_uri": "https://localhost:8080/",
          "height": 703
        },
        "id": "2-YjNXN7EEF_",
        "outputId": "2d7f73f4-da43-4240-8224-73c383fb9265"
      },
      "execution_count": 5,
      "outputs": [
        {
          "output_type": "display_data",
          "data": {
            "text/plain": [
              "<Figure size 1200x600 with 1 Axes>"
            ],
            "image/png": "[encoded data removed]"
          },
          "metadata": {}
        },
        {
          "output_type": "stream",
          "name": "stdout",
          "text": [
            "\n",
            "Correlation Matrix:\n",
            "            open      high       low     close  volume\n",
            "open    1.000000  0.927309  0.936293  0.826046     NaN\n",
            "high    0.927309  1.000000  0.950391  0.930800     NaN\n",
            "low     0.936293  0.950391  1.000000  0.912757     NaN\n",
            "close   0.826046  0.930800  0.912757  1.000000     NaN\n",
            "volume       NaN       NaN       NaN       NaN     NaN\n"
          ]
        }
      ]
    },
    {
      "cell_type": "markdown",
      "source": [
        "4. Feature engineering\n",
        "Create new features from existing data, like moving averages or volatility measures.\n"
      ],
      "metadata": {
        "id": "gRe9d8H3Emzj"
      }
    },
    {
      "cell_type": "code",
      "source": [
        "df['SMA_5'] = df['close'].rolling(window=5).mean()\n",
        "df['SMA_10'] = df['close'].rolling(window=10).mean()\n",
        "\n",
        "df['Volatility'] = df['close'].rolling(window=5).std()\n",
        "\n",
        "df = df.ffill().bfill()\n",
        "\n",
        "print(\"\\nData with Engineered Features Head:\")\n",
        "print(df.head())"
      ],
      "metadata": {
        "colab": {
          "base_uri": "https://localhost:8080/"
        },
        "id": "mAIR2ZdXLUq-",
        "outputId": "547ad038-ddf1-4e99-bb7b-79f79f539bc4"
      },
      "execution_count": 11,
      "outputs": [
        {
          "output_type": "stream",
          "name": "stdout",
          "text": [
            "\n",
            "Data with Engineered Features Head:\n",
            "Empty DataFrame\n",
            "Columns: [timestamp, open, high, low, close, volume, SMA_10, SMA_30, Volatility, SMA_5]\n",
            "Index: []\n"
          ]
        }
      ]
    },
    {
      "cell_type": "markdown",
      "source": [
        "5. Model selection\n",
        "Choose appropriate models based on your data and objectives. LSTM networks are suitable for time series forecasting, while XGBoost can be used for regression."
      ],
      "metadata": {
        "id": "yS5ciW5iMBH1"
      }
    },
    {
      "cell_type": "markdown",
      "source": [
        "6. Model training\n",
        "Train the selected model using your processed dataset."
      ],
      "metadata": {
        "id": "sRMOiS9JMFVf"
      }
    },
    {
      "cell_type": "code",
      "source": [
        "from sklearn.model_selection import train_test_split\n",
        "from xgboost import XGBRegressor\n",
        "from sklearn.metrics import mean_squared_error, mean_absolute_error, r2_score\n",
        "\n",
        "X = df[['open', 'high', 'low', 'close', 'volume', 'SMA_5', 'SMA_10', 'Volatility']]\n",
        "y = df['close'].shift(-1).dropna()\n",
        "\n",
        "X = X.loc[y.index]\n",
        "\n",
        "\n",
        "if X.shape[0] > 0 and y.shape[0] > 0:\n",
        "    model = XGBRegressor(n_estimators=100, random_state=42)\n",
        "    model.fit(X, y)\n",
        "\n",
        "    print(\"\\nXGBoost Model Trained on the entire dataset.\")\n",
        "else:\n",
        "    print(\"\\nNot enough data to train the model after preparing features and target variable.\")\n",
        "    print(f\"Shape of X: {X.shape}, Shape of y: {y.shape}\")"
      ],
      "metadata": {
        "colab": {
          "base_uri": "https://localhost:8080/"
        },
        "id": "A9telx9-XCVW",
        "outputId": "c77b0aba-220b-45c7-dc7f-2a367ceb1b4b"
      },
      "execution_count": 21,
      "outputs": [
        {
          "output_type": "stream",
          "name": "stdout",
          "text": [
            "\n",
            "Not enough data to train the model after preparing features and target variable.\n",
            "Shape of X: (0, 8), Shape of y: (0,)\n"
          ]
        }
      ]
    },
    {
      "cell_type": "markdown",
      "source": [
        "7. Model evaluation\n",
        "Assess the model's performance using relevant metrics."
      ],
      "metadata": {
        "id": "zs5_AJmnXKuf"
      }
    },
    {
      "cell_type": "code",
      "source": [
        "if 'model' in locals() and 'X' in locals() and 'y' in locals() and not X.empty and not y.empty:\n",
        "\n",
        "    print(\"WARNING: Evaluating the model on the training data due to insufficient data for a test split.\")\n",
        "    y_pred = model.predict(X)\n",
        "\n",
        "    rmse = np.sqrt(mean_squared_error(y, y_pred))\n",
        "    mae = mean_absolute_error(y, y_pred)\n",
        "    r2 = r2_score(y, y_pred)\n",
        "\n",
        "    print(f\"RMSE (on Training Data): {rmse:.4f}\")\n",
        "    print(f\"MAE (on Training Data): {mae:.4f}\")\n",
        "    print(f\"R-squared (on Training Data): {r2:.4f}\")\n",
        "\n",
        "    plt.figure(figsize=(12, 6))\n",
        "    plt.plot(y.index, y, label='Actual Close Price')\n",
        "    plt.plot(y.index, y_pred, label='Predicted Close Price', alpha=0.7)\n",
        "    plt.title('XGBoost Predictions vs Actual Values (on Training Data)')\n",
        "    plt.xlabel('Date')\n",
        "    plt.ylabel('Normalized Price')\n",
        "    plt.legend()\n",
        "    plt.grid(True)\n",
        "    plt.show()\n",
        "else:\n",
        "    print(\"Model was not trained or data is insufficient for evaluation.\")"
      ],
      "metadata": {
        "colab": {
          "base_uri": "https://localhost:8080/"
        },
        "id": "hQb46LRLXpga",
        "outputId": "e52092d3-9e00-4b4a-cd45-639c4675ca25"
      },
      "execution_count": 22,
      "outputs": [
        {
          "output_type": "stream",
          "name": "stdout",
          "text": [
            "Model was not trained or data is insufficient for evaluation.\n"
          ]
        }
      ]
    },
    {
      "cell_type": "markdown",
      "source": [
        "I> Code documentation"
      ],
      "metadata": {
        "id": "VjTUcXZ0YOvG"
      }
    },
    {
      "cell_type": "code",
      "source": [
        "def fetch_crypto_ohlc(coin_id, vs_currency, days):\n",
        "    \"\"\"\n",
        "    Fetches historical OHLC (Open, High, Low, Close) and volume data from CoinGecko.\n",
        "\n",
        "    Args:\n",
        "        coin_id (str): The ID of the cryptocurrency (e.g., 'bitcoin').\n",
        "        vs_currency (str): The currency to compare against (e.g., 'usd').\n",
        "        days (int): The number of days of historical data to fetch.\n",
        "\n",
        "    Returns:\n",
        "        pd.DataFrame: A DataFrame containing OHLCV data.\n",
        "    \"\"\"\n",
        "\n",
        "    pass\n"
      ],
      "metadata": {
        "id": "cHij-sjoYULm"
      },
      "execution_count": 23,
      "outputs": []
    },
    {
      "cell_type": "markdown",
      "source": [
        "II> Report structure\n",
        "A well-structured report guides the reader through your process, from the problem statement to the conclusion"
      ],
      "metadata": {
        "id": "Gc1kaeXZYfTf"
      }
    },
    {
      "cell_type": "markdown",
      "source": [
        "III> Diagrams and visuals\n",
        "Visuals are critical for explaining complex concepts and presenting results clearly."
      ],
      "metadata": {
        "id": "-2-09-qvYig3"
      }
    },
    {
      "cell_type": "markdown",
      "source": [
        "IV> Deployment\n",
        "Deploying your model makes it accessible for testing and predictions. Here are two common approaches."
      ],
      "metadata": {
        "id": "O0cXLeNUYsh4"
      }
    }
  ]
}